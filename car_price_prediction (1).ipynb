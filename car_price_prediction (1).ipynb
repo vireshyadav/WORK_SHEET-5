{
 "cells": [
  {
   "cell_type": "code",
   "execution_count": 3,
   "id": "4e96599d",
   "metadata": {},
   "outputs": [],
   "source": [
    "import numpy as np\n",
    "import pandas as pd\n",
    "import scipy\n",
    "from scipy.stats import zscore\n",
    "import matplotlib.pyplot as plt\n",
    "import sklearn \n",
    "from sklearn.preprocessing import LabelEncoder\n",
    "from sklearn.preprocessing import StandardScaler\n",
    "from sklearn.preprocessing import power_transform\n",
    "from sklearn.preprocessing import MinMaxScaler\n",
    "from sklearn.model_selection import train_test_split\n",
    "from sklearn.linear_model import LinearRegression\n",
    "from sklearn.linear_model import SGDRegressor\n",
    "from sklearn.tree import DecisionTreeRegressor\n",
    "from sklearn.neighbors import KNeighborsRegressor\n",
    "from sklearn.ensemble import RandomForestRegressor\n",
    "from sklearn.svm import SVR\n",
    "from sklearn.metrics import mean_squared_error, mean_absolute_error, r2_score\n",
    "from sklearn.model_selection import cross_val_score as cvs\n",
    "from sklearn.model_selection import GridSearchCV\n",
    "import seaborn as sn\n",
    "import warnings\n",
    "warnings.filterwarnings('ignore')\n"
   ]
  },
  {
   "cell_type": "code",
   "execution_count": 4,
   "id": "e653be24",
   "metadata": {},
   "outputs": [],
   "source": [
    "df = pd.read_csv(\"Car Price Dataset.zip\")"
   ]
  },
  {
   "cell_type": "code",
   "execution_count": 5,
   "id": "afe2ec84",
   "metadata": {},
   "outputs": [
    {
     "data": {
      "text/html": [
       "<div>\n",
       "<style scoped>\n",
       "    .dataframe tbody tr th:only-of-type {\n",
       "        vertical-align: middle;\n",
       "    }\n",
       "\n",
       "    .dataframe tbody tr th {\n",
       "        vertical-align: top;\n",
       "    }\n",
       "\n",
       "    .dataframe thead th {\n",
       "        text-align: right;\n",
       "    }\n",
       "</style>\n",
       "<table border=\"1\" class=\"dataframe\">\n",
       "  <thead>\n",
       "    <tr style=\"text-align: right;\">\n",
       "      <th></th>\n",
       "      <th>Brand &amp; Model</th>\n",
       "      <th>Varient</th>\n",
       "      <th>Fuel Type</th>\n",
       "      <th>Driven Kilometers</th>\n",
       "      <th>Transmission</th>\n",
       "      <th>Owner</th>\n",
       "      <th>Location</th>\n",
       "      <th>Date of Posting Ad</th>\n",
       "      <th>Price (in ₹)</th>\n",
       "    </tr>\n",
       "  </thead>\n",
       "  <tbody>\n",
       "    <tr>\n",
       "      <th>0</th>\n",
       "      <td>Mahindra Xuv500 (2013)</td>\n",
       "      <td>W8 Dual Tone</td>\n",
       "      <td>DIESEL</td>\n",
       "      <td>58,000 KM</td>\n",
       "      <td>MANUAL</td>\n",
       "      <td>1st Owner</td>\n",
       "      <td>Pitampura, Delhi</td>\n",
       "      <td>01/27/2022</td>\n",
       "      <td>435000</td>\n",
       "    </tr>\n",
       "    <tr>\n",
       "      <th>1</th>\n",
       "      <td>Hyundai Creta (2020)</td>\n",
       "      <td>1.6 SX Option Executive Diesel</td>\n",
       "      <td>DIESEL</td>\n",
       "      <td>43861.0 KM</td>\n",
       "      <td>MANUAL</td>\n",
       "      <td>1st Owner</td>\n",
       "      <td>Ahiritola, Kolkata</td>\n",
       "      <td>01/23/2022</td>\n",
       "      <td>1165101</td>\n",
       "    </tr>\n",
       "    <tr>\n",
       "      <th>2</th>\n",
       "      <td>Hyundai Verna (2019)</td>\n",
       "      <td>VTVT 1.4 EX</td>\n",
       "      <td>PETROL</td>\n",
       "      <td>17,000 KM</td>\n",
       "      <td>MANUAL</td>\n",
       "      <td>2nd Owner</td>\n",
       "      <td>Chelavoor, Pantheeramkavu</td>\n",
       "      <td>01/25/2022</td>\n",
       "      <td>815000</td>\n",
       "    </tr>\n",
       "    <tr>\n",
       "      <th>3</th>\n",
       "      <td>Datsun Redigo (2020)</td>\n",
       "      <td>D</td>\n",
       "      <td>PETROL</td>\n",
       "      <td>10000 KM</td>\n",
       "      <td>MANUAL</td>\n",
       "      <td>1st Owner</td>\n",
       "      <td>Palam, Delhi</td>\n",
       "      <td>01/13/2022</td>\n",
       "      <td>270000</td>\n",
       "    </tr>\n",
       "    <tr>\n",
       "      <th>4</th>\n",
       "      <td>Hyundai I10 (2011)</td>\n",
       "      <td>Sportz 1.1 iRDE2</td>\n",
       "      <td>PETROL</td>\n",
       "      <td>70000 KM</td>\n",
       "      <td>MANUAL</td>\n",
       "      <td>1st Owner</td>\n",
       "      <td>Dwarka Sector 13, Delhi</td>\n",
       "      <td>01/13/2022</td>\n",
       "      <td>185000</td>\n",
       "    </tr>\n",
       "  </tbody>\n",
       "</table>\n",
       "</div>"
      ],
      "text/plain": [
       "            Brand & Model                         Varient Fuel Type  \\\n",
       "0  Mahindra Xuv500 (2013)                    W8 Dual Tone    DIESEL   \n",
       "1    Hyundai Creta (2020)  1.6 SX Option Executive Diesel    DIESEL   \n",
       "2    Hyundai Verna (2019)                     VTVT 1.4 EX    PETROL   \n",
       "3    Datsun Redigo (2020)                               D    PETROL   \n",
       "4      Hyundai I10 (2011)                Sportz 1.1 iRDE2    PETROL   \n",
       "\n",
       "  Driven Kilometers Transmission      Owner                   Location  \\\n",
       "0         58,000 KM       MANUAL  1st Owner           Pitampura, Delhi   \n",
       "1        43861.0 KM       MANUAL  1st Owner         Ahiritola, Kolkata   \n",
       "2         17,000 KM       MANUAL  2nd Owner  Chelavoor, Pantheeramkavu   \n",
       "3          10000 KM       MANUAL  1st Owner               Palam, Delhi   \n",
       "4          70000 KM       MANUAL  1st Owner    Dwarka Sector 13, Delhi   \n",
       "\n",
       "  Date of Posting Ad  Price (in ₹)  \n",
       "0         01/27/2022        435000  \n",
       "1         01/23/2022       1165101  \n",
       "2         01/25/2022        815000  \n",
       "3         01/13/2022        270000  \n",
       "4         01/13/2022        185000  "
      ]
     },
     "execution_count": 5,
     "metadata": {},
     "output_type": "execute_result"
    }
   ],
   "source": [
    "df.head()"
   ]
  },
  {
   "cell_type": "code",
   "execution_count": 6,
   "id": "690149c2",
   "metadata": {},
   "outputs": [
    {
     "data": {
      "text/html": [
       "<div>\n",
       "<style scoped>\n",
       "    .dataframe tbody tr th:only-of-type {\n",
       "        vertical-align: middle;\n",
       "    }\n",
       "\n",
       "    .dataframe tbody tr th {\n",
       "        vertical-align: top;\n",
       "    }\n",
       "\n",
       "    .dataframe thead th {\n",
       "        text-align: right;\n",
       "    }\n",
       "</style>\n",
       "<table border=\"1\" class=\"dataframe\">\n",
       "  <thead>\n",
       "    <tr style=\"text-align: right;\">\n",
       "      <th></th>\n",
       "      <th>Brand &amp; Model</th>\n",
       "      <th>Varient</th>\n",
       "      <th>Fuel Type</th>\n",
       "      <th>Driven Kilometers</th>\n",
       "      <th>Transmission</th>\n",
       "      <th>Owner</th>\n",
       "      <th>Location</th>\n",
       "      <th>Date of Posting Ad</th>\n",
       "      <th>Price (in ₹)</th>\n",
       "    </tr>\n",
       "  </thead>\n",
       "  <tbody>\n",
       "    <tr>\n",
       "      <th>5045</th>\n",
       "      <td>maruti suzuki 800 (1970)</td>\n",
       "      <td>EX 5 Speed</td>\n",
       "      <td>LPG</td>\n",
       "      <td>500,000 Km</td>\n",
       "      <td>Automatic</td>\n",
       "      <td>1st Owner</td>\n",
       "      <td>Alipur</td>\n",
       "      <td>01/23/2022</td>\n",
       "      <td>50000</td>\n",
       "    </tr>\n",
       "    <tr>\n",
       "      <th>5046</th>\n",
       "      <td>renault duster (2012)</td>\n",
       "      <td>2012-2015 110PS Diesel RxZ</td>\n",
       "      <td>Diesel</td>\n",
       "      <td>111,000 Km</td>\n",
       "      <td>Manual</td>\n",
       "      <td>1st Owner</td>\n",
       "      <td>MDDA Colony Near Kedarpuram, Dehradun</td>\n",
       "      <td>01/23/2022</td>\n",
       "      <td>320000</td>\n",
       "    </tr>\n",
       "    <tr>\n",
       "      <th>5047</th>\n",
       "      <td>hyundai santro (2021)</td>\n",
       "      <td>Sportz AMT</td>\n",
       "      <td>Petrol</td>\n",
       "      <td>5,500 Km</td>\n",
       "      <td>Automatic</td>\n",
       "      <td>1st Owner</td>\n",
       "      <td>Pragati Nagar, Ahmedabad</td>\n",
       "      <td>01/23/2022</td>\n",
       "      <td>599000</td>\n",
       "    </tr>\n",
       "    <tr>\n",
       "      <th>5048</th>\n",
       "      <td>hyundai verna (2013)</td>\n",
       "      <td>VTVT 1.6 EX</td>\n",
       "      <td>Petrol</td>\n",
       "      <td>61231.0 Km</td>\n",
       "      <td>Manual</td>\n",
       "      <td>1st Owner</td>\n",
       "      <td>Malad West, Mumbai</td>\n",
       "      <td>01/27/2022</td>\n",
       "      <td>395000</td>\n",
       "    </tr>\n",
       "    <tr>\n",
       "      <th>5049</th>\n",
       "      <td>maruti suzuki swift dzire (2019)</td>\n",
       "      <td>VXI</td>\n",
       "      <td>Diesel</td>\n",
       "      <td>58,000 Km</td>\n",
       "      <td>Manual</td>\n",
       "      <td>1st Owner</td>\n",
       "      <td>Kukatpally, Hyderabad</td>\n",
       "      <td>01/23/2022</td>\n",
       "      <td>580000</td>\n",
       "    </tr>\n",
       "  </tbody>\n",
       "</table>\n",
       "</div>"
      ],
      "text/plain": [
       "                         Brand & Model                     Varient Fuel Type  \\\n",
       "5045          maruti suzuki 800 (1970)                  EX 5 Speed       LPG   \n",
       "5046             renault duster (2012)  2012-2015 110PS Diesel RxZ    Diesel   \n",
       "5047             hyundai santro (2021)                  Sportz AMT    Petrol   \n",
       "5048              hyundai verna (2013)                 VTVT 1.6 EX    Petrol   \n",
       "5049  maruti suzuki swift dzire (2019)                         VXI    Diesel   \n",
       "\n",
       "     Driven Kilometers Transmission      Owner  \\\n",
       "5045        500,000 Km    Automatic  1st Owner   \n",
       "5046        111,000 Km       Manual  1st Owner   \n",
       "5047          5,500 Km    Automatic  1st Owner   \n",
       "5048        61231.0 Km       Manual  1st Owner   \n",
       "5049         58,000 Km       Manual  1st Owner   \n",
       "\n",
       "                                   Location Date of Posting Ad  Price (in ₹)  \n",
       "5045                                 Alipur         01/23/2022         50000  \n",
       "5046  MDDA Colony Near Kedarpuram, Dehradun         01/23/2022        320000  \n",
       "5047               Pragati Nagar, Ahmedabad         01/23/2022        599000  \n",
       "5048                     Malad West, Mumbai         01/27/2022        395000  \n",
       "5049                  Kukatpally, Hyderabad         01/23/2022        580000  "
      ]
     },
     "execution_count": 6,
     "metadata": {},
     "output_type": "execute_result"
    }
   ],
   "source": [
    "df = pd.DataFrame(data=df)\n",
    "df.tail()"
   ]
  },
  {
   "cell_type": "code",
   "execution_count": 7,
   "id": "6675d85e",
   "metadata": {},
   "outputs": [
    {
     "data": {
      "text/plain": [
       "(5050, 9)"
      ]
     },
     "execution_count": 7,
     "metadata": {},
     "output_type": "execute_result"
    }
   ],
   "source": [
    "df.shape"
   ]
  },
  {
   "cell_type": "code",
   "execution_count": 8,
   "id": "da88834d",
   "metadata": {},
   "outputs": [
    {
     "data": {
      "text/plain": [
       "Brand & Model         object\n",
       "Varient               object\n",
       "Fuel Type             object\n",
       "Driven Kilometers     object\n",
       "Transmission          object\n",
       "Owner                 object\n",
       "Location              object\n",
       "Date of Posting Ad    object\n",
       "Price (in ₹)           int64\n",
       "dtype: object"
      ]
     },
     "execution_count": 8,
     "metadata": {},
     "output_type": "execute_result"
    }
   ],
   "source": [
    "df.dtypes"
   ]
  },
  {
   "cell_type": "code",
   "execution_count": 9,
   "id": "738981a8",
   "metadata": {},
   "outputs": [
    {
     "name": "stdout",
     "output_type": "stream",
     "text": [
      "<class 'pandas.core.frame.DataFrame'>\n",
      "RangeIndex: 5050 entries, 0 to 5049\n",
      "Data columns (total 9 columns):\n",
      " #   Column              Non-Null Count  Dtype \n",
      "---  ------              --------------  ----- \n",
      " 0   Brand & Model       5050 non-null   object\n",
      " 1   Varient             5011 non-null   object\n",
      " 2   Fuel Type           5050 non-null   object\n",
      " 3   Driven Kilometers   5050 non-null   object\n",
      " 4   Transmission        5050 non-null   object\n",
      " 5   Owner               5050 non-null   object\n",
      " 6   Location            5050 non-null   object\n",
      " 7   Date of Posting Ad  5050 non-null   object\n",
      " 8   Price (in ₹)        5050 non-null   int64 \n",
      "dtypes: int64(1), object(8)\n",
      "memory usage: 355.2+ KB\n"
     ]
    }
   ],
   "source": [
    "df.info()"
   ]
  },
  {
   "cell_type": "code",
   "execution_count": 10,
   "id": "82d39f34",
   "metadata": {},
   "outputs": [
    {
     "data": {
      "text/plain": [
       "Index(['Brand & Model', 'Varient', 'Fuel Type', 'Driven Kilometers',\n",
       "       'Transmission', 'Owner', 'Location', 'Date of Posting Ad',\n",
       "       'Price (in ₹)'],\n",
       "      dtype='object')"
      ]
     },
     "execution_count": 10,
     "metadata": {},
     "output_type": "execute_result"
    }
   ],
   "source": [
    "df.columns"
   ]
  },
  {
   "cell_type": "code",
   "execution_count": 11,
   "id": "ee6b3aee",
   "metadata": {},
   "outputs": [
    {
     "data": {
      "text/html": [
       "<div>\n",
       "<style scoped>\n",
       "    .dataframe tbody tr th:only-of-type {\n",
       "        vertical-align: middle;\n",
       "    }\n",
       "\n",
       "    .dataframe tbody tr th {\n",
       "        vertical-align: top;\n",
       "    }\n",
       "\n",
       "    .dataframe thead th {\n",
       "        text-align: right;\n",
       "    }\n",
       "</style>\n",
       "<table border=\"1\" class=\"dataframe\">\n",
       "  <thead>\n",
       "    <tr style=\"text-align: right;\">\n",
       "      <th></th>\n",
       "      <th>Brand &amp; Model</th>\n",
       "      <th>Varient</th>\n",
       "      <th>Fuel Type</th>\n",
       "      <th>Driven Kilometers</th>\n",
       "      <th>Transmission</th>\n",
       "      <th>Owner</th>\n",
       "      <th>Location</th>\n",
       "      <th>Date of Posting Ad</th>\n",
       "      <th>Price (in ₹)</th>\n",
       "    </tr>\n",
       "  </thead>\n",
       "  <tbody>\n",
       "    <tr>\n",
       "      <th>19</th>\n",
       "      <td>Mercedes-Benz S-Class (2004)</td>\n",
       "      <td>S 350 L</td>\n",
       "      <td>PETROL</td>\n",
       "      <td>52,300 KM</td>\n",
       "      <td>AUTOMATIC</td>\n",
       "      <td>2nd Owner</td>\n",
       "      <td>JP Nagar, Bengaluru</td>\n",
       "      <td>01-27-2022</td>\n",
       "      <td>329000</td>\n",
       "    </tr>\n",
       "    <tr>\n",
       "      <th>28</th>\n",
       "      <td>Maruti Suzuki Alto 800 (2017)</td>\n",
       "      <td>VXI Airbag</td>\n",
       "      <td>PETROL</td>\n",
       "      <td>14,800 KM</td>\n",
       "      <td>MANUAL</td>\n",
       "      <td>1st Owner</td>\n",
       "      <td>Chelavoor, Pantheeramkavu</td>\n",
       "      <td>01-27-2022</td>\n",
       "      <td>315000</td>\n",
       "    </tr>\n",
       "    <tr>\n",
       "      <th>30</th>\n",
       "      <td>Mahindra Scorpio (2020)</td>\n",
       "      <td>S9</td>\n",
       "      <td>DIESEL</td>\n",
       "      <td>18,000 KM</td>\n",
       "      <td>MANUAL</td>\n",
       "      <td>1st Owner</td>\n",
       "      <td>Mirpur, Gurdaspur</td>\n",
       "      <td>01-27-2022</td>\n",
       "      <td>1775000</td>\n",
       "    </tr>\n",
       "    <tr>\n",
       "      <th>33</th>\n",
       "      <td>Hyundai Santro (2001)</td>\n",
       "      <td>LE zipPlus</td>\n",
       "      <td>PETROL</td>\n",
       "      <td>115635.0 KM</td>\n",
       "      <td>MANUAL</td>\n",
       "      <td>4+ Owner</td>\n",
       "      <td>Hebbal, Bengaluru</td>\n",
       "      <td>01-27-2022</td>\n",
       "      <td>73000</td>\n",
       "    </tr>\n",
       "    <tr>\n",
       "      <th>34</th>\n",
       "      <td>Hyundai Santro (2001)</td>\n",
       "      <td>LE zipPlus</td>\n",
       "      <td>PETROL</td>\n",
       "      <td>115635.0 KM</td>\n",
       "      <td>MANUAL</td>\n",
       "      <td>4+ Owner</td>\n",
       "      <td>Hebbal, Bengaluru</td>\n",
       "      <td>01-27-2022</td>\n",
       "      <td>73000</td>\n",
       "    </tr>\n",
       "    <tr>\n",
       "      <th>...</th>\n",
       "      <td>...</td>\n",
       "      <td>...</td>\n",
       "      <td>...</td>\n",
       "      <td>...</td>\n",
       "      <td>...</td>\n",
       "      <td>...</td>\n",
       "      <td>...</td>\n",
       "      <td>...</td>\n",
       "      <td>...</td>\n",
       "    </tr>\n",
       "    <tr>\n",
       "      <th>4326</th>\n",
       "      <td>2015 Maruti Wagon R 1.0</td>\n",
       "      <td>['VXI']</td>\n",
       "      <td>Petrol</td>\n",
       "      <td>22,456 km</td>\n",
       "      <td>Manual</td>\n",
       "      <td>2nd Owner</td>\n",
       "      <td>Akbar Hills, Hyderabad</td>\n",
       "      <td>05-01-2022</td>\n",
       "      <td>309699</td>\n",
       "    </tr>\n",
       "    <tr>\n",
       "      <th>4327</th>\n",
       "      <td>2019 Maruti Baleno</td>\n",
       "      <td>['LXI']</td>\n",
       "      <td>Petrol</td>\n",
       "      <td>34,079 km</td>\n",
       "      <td>Automatic</td>\n",
       "      <td>1st Owner</td>\n",
       "      <td>Vasai East, Mumbai</td>\n",
       "      <td>05-01-2022</td>\n",
       "      <td>326699</td>\n",
       "    </tr>\n",
       "    <tr>\n",
       "      <th>4328</th>\n",
       "      <td>2015 Hyundai Grand i10</td>\n",
       "      <td>['LXI']</td>\n",
       "      <td>Diesel</td>\n",
       "      <td>86,636 km</td>\n",
       "      <td>Manual</td>\n",
       "      <td>1st Owner</td>\n",
       "      <td>Nungambakkam, Chennai</td>\n",
       "      <td>05-01-2022</td>\n",
       "      <td>288699</td>\n",
       "    </tr>\n",
       "    <tr>\n",
       "      <th>4329</th>\n",
       "      <td>2013 Maruti Swift</td>\n",
       "      <td>['VXI']</td>\n",
       "      <td>Diesel</td>\n",
       "      <td>29,449 km</td>\n",
       "      <td>Manual</td>\n",
       "      <td>1st Owner</td>\n",
       "      <td>Rajouri Garden, Delhi</td>\n",
       "      <td>05-01-2022</td>\n",
       "      <td>555099</td>\n",
       "    </tr>\n",
       "    <tr>\n",
       "      <th>4330</th>\n",
       "      <td>2019 Maruti Baleno</td>\n",
       "      <td>['LXI']</td>\n",
       "      <td>Petrol</td>\n",
       "      <td>6,671 km</td>\n",
       "      <td>Automatic</td>\n",
       "      <td>1st Owner</td>\n",
       "      <td>Subhash Nagar, Delhi</td>\n",
       "      <td>05-01-2022</td>\n",
       "      <td>448799</td>\n",
       "    </tr>\n",
       "  </tbody>\n",
       "</table>\n",
       "<p>2551 rows × 9 columns</p>\n",
       "</div>"
      ],
      "text/plain": [
       "                      Brand & Model     Varient Fuel Type Driven Kilometers  \\\n",
       "19     Mercedes-Benz S-Class (2004)     S 350 L    PETROL         52,300 KM   \n",
       "28    Maruti Suzuki Alto 800 (2017)  VXI Airbag    PETROL         14,800 KM   \n",
       "30          Mahindra Scorpio (2020)          S9    DIESEL         18,000 KM   \n",
       "33            Hyundai Santro (2001)  LE zipPlus    PETROL       115635.0 KM   \n",
       "34            Hyundai Santro (2001)  LE zipPlus    PETROL       115635.0 KM   \n",
       "...                             ...         ...       ...               ...   \n",
       "4326        2015 Maruti Wagon R 1.0     ['VXI']    Petrol         22,456 km   \n",
       "4327             2019 Maruti Baleno     ['LXI']    Petrol         34,079 km   \n",
       "4328         2015 Hyundai Grand i10     ['LXI']    Diesel         86,636 km   \n",
       "4329              2013 Maruti Swift     ['VXI']    Diesel         29,449 km   \n",
       "4330             2019 Maruti Baleno     ['LXI']    Petrol          6,671 km   \n",
       "\n",
       "     Transmission      Owner                   Location Date of Posting Ad  \\\n",
       "19      AUTOMATIC  2nd Owner        JP Nagar, Bengaluru         01-27-2022   \n",
       "28         MANUAL  1st Owner  Chelavoor, Pantheeramkavu         01-27-2022   \n",
       "30         MANUAL  1st Owner          Mirpur, Gurdaspur         01-27-2022   \n",
       "33         MANUAL   4+ Owner          Hebbal, Bengaluru         01-27-2022   \n",
       "34         MANUAL   4+ Owner          Hebbal, Bengaluru         01-27-2022   \n",
       "...           ...        ...                        ...                ...   \n",
       "4326       Manual  2nd Owner     Akbar Hills, Hyderabad         05-01-2022   \n",
       "4327    Automatic  1st Owner         Vasai East, Mumbai         05-01-2022   \n",
       "4328       Manual  1st Owner      Nungambakkam, Chennai         05-01-2022   \n",
       "4329       Manual  1st Owner      Rajouri Garden, Delhi         05-01-2022   \n",
       "4330    Automatic  1st Owner       Subhash Nagar, Delhi         05-01-2022   \n",
       "\n",
       "      Price (in ₹)  \n",
       "19          329000  \n",
       "28          315000  \n",
       "30         1775000  \n",
       "33           73000  \n",
       "34           73000  \n",
       "...            ...  \n",
       "4326        309699  \n",
       "4327        326699  \n",
       "4328        288699  \n",
       "4329        555099  \n",
       "4330        448799  \n",
       "\n",
       "[2551 rows x 9 columns]"
      ]
     },
     "execution_count": 11,
     "metadata": {},
     "output_type": "execute_result"
    }
   ],
   "source": [
    "df[df.duplicated()]"
   ]
  },
  {
   "cell_type": "code",
   "execution_count": 12,
   "id": "2b05f5bd",
   "metadata": {},
   "outputs": [],
   "source": [
    "df.drop_duplicates(keep=\"first\",inplace=True)"
   ]
  },
  {
   "cell_type": "code",
   "execution_count": 13,
   "id": "c1e37c6b",
   "metadata": {},
   "outputs": [
    {
     "name": "stdout",
     "output_type": "stream",
     "text": [
      "number of rows are 2499 and number of columns are 9\n"
     ]
    }
   ],
   "source": [
    "print(\"number of rows are\",df.shape[0],\"and number of columns are\",df.shape[1])"
   ]
  },
  {
   "cell_type": "code",
   "execution_count": 14,
   "id": "b3d9e7dc",
   "metadata": {},
   "outputs": [
    {
     "data": {
      "text/html": [
       "<div>\n",
       "<style scoped>\n",
       "    .dataframe tbody tr th:only-of-type {\n",
       "        vertical-align: middle;\n",
       "    }\n",
       "\n",
       "    .dataframe tbody tr th {\n",
       "        vertical-align: top;\n",
       "    }\n",
       "\n",
       "    .dataframe thead th {\n",
       "        text-align: right;\n",
       "    }\n",
       "</style>\n",
       "<table border=\"1\" class=\"dataframe\">\n",
       "  <thead>\n",
       "    <tr style=\"text-align: right;\">\n",
       "      <th></th>\n",
       "      <th>Price (in ₹)</th>\n",
       "    </tr>\n",
       "  </thead>\n",
       "  <tbody>\n",
       "    <tr>\n",
       "      <th>count</th>\n",
       "      <td>2.499000e+03</td>\n",
       "    </tr>\n",
       "    <tr>\n",
       "      <th>mean</th>\n",
       "      <td>5.625344e+05</td>\n",
       "    </tr>\n",
       "    <tr>\n",
       "      <th>std</th>\n",
       "      <td>3.869627e+05</td>\n",
       "    </tr>\n",
       "    <tr>\n",
       "      <th>min</th>\n",
       "      <td>1.500000e+04</td>\n",
       "    </tr>\n",
       "    <tr>\n",
       "      <th>25%</th>\n",
       "      <td>3.653990e+05</td>\n",
       "    </tr>\n",
       "    <tr>\n",
       "      <th>50%</th>\n",
       "      <td>4.705990e+05</td>\n",
       "    </tr>\n",
       "    <tr>\n",
       "      <th>75%</th>\n",
       "      <td>6.462990e+05</td>\n",
       "    </tr>\n",
       "    <tr>\n",
       "      <th>max</th>\n",
       "      <td>7.175000e+06</td>\n",
       "    </tr>\n",
       "  </tbody>\n",
       "</table>\n",
       "</div>"
      ],
      "text/plain": [
       "       Price (in ₹)\n",
       "count  2.499000e+03\n",
       "mean   5.625344e+05\n",
       "std    3.869627e+05\n",
       "min    1.500000e+04\n",
       "25%    3.653990e+05\n",
       "50%    4.705990e+05\n",
       "75%    6.462990e+05\n",
       "max    7.175000e+06"
      ]
     },
     "execution_count": 14,
     "metadata": {},
     "output_type": "execute_result"
    }
   ],
   "source": [
    "df.describe()"
   ]
  },
  {
   "cell_type": "code",
   "execution_count": 15,
   "id": "59be3cbd",
   "metadata": {},
   "outputs": [
    {
     "data": {
      "text/plain": [
       "(array([['W8 Dual Tone', 'DIESEL', '58,000 KM', ..., '1st Owner',\n",
       "         'Pitampura, Delhi', '01/27/2022'],\n",
       "        ['1.6 SX Option Executive Diesel', 'DIESEL', '43861.0 KM', ...,\n",
       "         '1st Owner', 'Ahiritola, Kolkata', '01/23/2022'],\n",
       "        ['VTVT 1.4 EX', 'PETROL', '17,000 KM', ..., '2nd Owner',\n",
       "         'Chelavoor, Pantheeramkavu', '01/25/2022'],\n",
       "        ...,\n",
       "        ['Sportz AMT', 'Petrol', '5,500 Km', ..., '1st Owner',\n",
       "         'Pragati Nagar, Ahmedabad', '01/23/2022'],\n",
       "        ['VTVT 1.6 EX', 'Petrol', '61231.0 Km', ..., '1st Owner',\n",
       "         'Malad West, Mumbai', '01/27/2022'],\n",
       "        ['VXI', 'Diesel', '58,000 Km', ..., '1st Owner',\n",
       "         'Kukatpally, Hyderabad', '01/23/2022']], dtype=object),\n",
       " array([ 435000, 1165101,  815000, ...,  599000,  395000,  580000],\n",
       "       dtype=int64))"
      ]
     },
     "execution_count": 15,
     "metadata": {},
     "output_type": "execute_result"
    }
   ],
   "source": [
    "x = df.iloc[:,1:-1].values\n",
    "y = df.iloc[:,-1].values\n",
    "x,y"
   ]
  },
  {
   "cell_type": "code",
   "execution_count": 16,
   "id": "21ebdfab",
   "metadata": {},
   "outputs": [],
   "source": [
    "x_train,x_test,y_train,y_test=train_test_split(x,y,test_size=0.2,random_state=0)"
   ]
  },
  {
   "cell_type": "code",
   "execution_count": 17,
   "id": "54f662c7",
   "metadata": {},
   "outputs": [
    {
     "data": {
      "text/plain": [
       "(array([[\"['TITANIUM']\", 'Petrol', '19,412 km', ..., '1st Owner',\n",
       "         'Andheri West, Mumbai', '01/17/2022'],\n",
       "        [\"['1.2']\", 'Petrol', '6,054 km', ..., '1st Owner',\n",
       "         'Brahmsthan, Azamgarh', '01/22/2022'],\n",
       "        ['VX', 'DIESEL', '67,000 KM', ..., '1st Owner',\n",
       "         'Police Lines, Varanasi', '01-27-2022'],\n",
       "        ...,\n",
       "        [\"['VXI']\", 'Diesel', '46,220 km', ..., '1st Owner',\n",
       "         'Acharya Vihar, Bhubaneshwar', '05-01-2022'],\n",
       "        [\"['AMT']\", 'Diesel', '46,949 km', ..., '1st Owner',\n",
       "         'Janki Nagar, Patna', '06-01-2022'],\n",
       "        [\"['3.0']\", 'Petrol', '27,905 km', ..., '1st Owner',\n",
       "         'Chandigarh Airport Area, Chandigarh', '01/15/2022']],\n",
       "       dtype=object),\n",
       " array([['Sharp DCT Automatic', 'PETROL', '28000.0 KM', ..., '1st Owner',\n",
       "         'Indira Nagar, Bengaluru', '12-03-2021'],\n",
       "        [\"['PLUS']\", 'Petrol', '18,277 km', ..., '2nd Owner',\n",
       "         'Ahiritola, Kolkata', '06-01-2022'],\n",
       "        [\"['1.2']\", 'Petrol', '22,197 km', ..., '1st Owner',\n",
       "         'Ahiritola, Kolkata', '05-01-2022'],\n",
       "        ...,\n",
       "        [\"['VTVT']\", 'Diesel', '38,471 km', ..., '1st Owner',\n",
       "         'Rohini, Delhi', '02-01-2022'],\n",
       "        [\"['V']\", 'Petrol', '20,410 km', ..., '1st Owner',\n",
       "         'Budhakhera, Karnal', '01-27-2022'],\n",
       "        [\"['VXI']\", 'Petrol', '25,232 km', ..., '1st Owner',\n",
       "         'Vikaspuri, Delhi', '03-01-2022']], dtype=object))"
      ]
     },
     "execution_count": 17,
     "metadata": {},
     "output_type": "execute_result"
    }
   ],
   "source": [
    "x_train,x_test"
   ]
  },
  {
   "cell_type": "code",
   "execution_count": 18,
   "id": "dec03604",
   "metadata": {},
   "outputs": [],
   "source": [
    "X_train, X_test, y_train, y_test = train_test_split(df.iloc[:, :-1], \n",
    "                                                    df.iloc[:, -1], \n",
    "                                                    test_size = 0.3, \n",
    "                                                    random_state = 42)"
   ]
  },
  {
   "cell_type": "code",
   "execution_count": 19,
   "id": "d76efb37",
   "metadata": {},
   "outputs": [
    {
     "name": "stdout",
     "output_type": "stream",
     "text": [
      "<class 'pandas.core.frame.DataFrame'>\n",
      "Int64Index: 1749 entries, 4270 to 1005\n",
      "Data columns (total 8 columns):\n",
      " #   Column              Non-Null Count  Dtype \n",
      "---  ------              --------------  ----- \n",
      " 0   Brand & Model       1749 non-null   object\n",
      " 1   Varient             1742 non-null   object\n",
      " 2   Fuel Type           1749 non-null   object\n",
      " 3   Driven Kilometers   1749 non-null   object\n",
      " 4   Transmission        1749 non-null   object\n",
      " 5   Owner               1749 non-null   object\n",
      " 6   Location            1749 non-null   object\n",
      " 7   Date of Posting Ad  1749 non-null   object\n",
      "dtypes: object(8)\n",
      "memory usage: 123.0+ KB\n"
     ]
    }
   ],
   "source": [
    "X_train.info()"
   ]
  },
  {
   "cell_type": "code",
   "execution_count": 20,
   "id": "c554d8e0",
   "metadata": {},
   "outputs": [],
   "source": [
    "X_train = X_train.iloc[:, 1:]\n",
    "X_test = X_test.iloc[:, 1:]"
   ]
  },
  {
   "cell_type": "code",
   "execution_count": 21,
   "id": "ec5fbcd7",
   "metadata": {},
   "outputs": [
    {
     "data": {
      "text/plain": [
       "['1.2']                  144\n",
       "['VDI']                  110\n",
       "['VXI']                   72\n",
       "['LXI']                   51\n",
       "['BS']                    41\n",
       "                        ... \n",
       "LS B3 - 10 seats BSII      1\n",
       "['EDITION']\"               1\n",
       "['1.2'                     1\n",
       "['2WD']                    1\n",
       "['HYBIRD']                 1\n",
       "Name: Varient, Length: 288, dtype: int64"
      ]
     },
     "execution_count": 21,
     "metadata": {},
     "output_type": "execute_result"
    }
   ],
   "source": [
    "\n",
    "X_train[\"Varient\"].value_counts()"
   ]
  },
  {
   "cell_type": "code",
   "execution_count": 22,
   "id": "16f7654b",
   "metadata": {},
   "outputs": [
    {
     "data": {
      "text/html": [
       "<div>\n",
       "<style scoped>\n",
       "    .dataframe tbody tr th:only-of-type {\n",
       "        vertical-align: middle;\n",
       "    }\n",
       "\n",
       "    .dataframe tbody tr th {\n",
       "        vertical-align: top;\n",
       "    }\n",
       "\n",
       "    .dataframe thead th {\n",
       "        text-align: right;\n",
       "    }\n",
       "</style>\n",
       "<table border=\"1\" class=\"dataframe\">\n",
       "  <thead>\n",
       "    <tr style=\"text-align: right;\">\n",
       "      <th></th>\n",
       "      <th>Brand &amp; Model</th>\n",
       "      <th>Varient</th>\n",
       "      <th>Fuel Type</th>\n",
       "      <th>Driven Kilometers</th>\n",
       "      <th>Transmission</th>\n",
       "      <th>Owner</th>\n",
       "      <th>Location</th>\n",
       "      <th>Date of Posting Ad</th>\n",
       "      <th>Price (in ₹)</th>\n",
       "    </tr>\n",
       "  </thead>\n",
       "  <tbody>\n",
       "    <tr>\n",
       "      <th>0</th>\n",
       "      <td>Mahindra Xuv500 (2013)</td>\n",
       "      <td>W8 Dual Tone</td>\n",
       "      <td>DIESEL</td>\n",
       "      <td>58,000 KM</td>\n",
       "      <td>MANUAL</td>\n",
       "      <td>1st Owner</td>\n",
       "      <td>Pitampura, Delhi</td>\n",
       "      <td>01/27/2022</td>\n",
       "      <td>435000</td>\n",
       "    </tr>\n",
       "    <tr>\n",
       "      <th>1</th>\n",
       "      <td>Hyundai Creta (2020)</td>\n",
       "      <td>1.6 SX Option Executive Diesel</td>\n",
       "      <td>DIESEL</td>\n",
       "      <td>43861.0 KM</td>\n",
       "      <td>MANUAL</td>\n",
       "      <td>1st Owner</td>\n",
       "      <td>Ahiritola, Kolkata</td>\n",
       "      <td>01/23/2022</td>\n",
       "      <td>1165101</td>\n",
       "    </tr>\n",
       "    <tr>\n",
       "      <th>2</th>\n",
       "      <td>Hyundai Verna (2019)</td>\n",
       "      <td>VTVT 1.4 EX</td>\n",
       "      <td>PETROL</td>\n",
       "      <td>17,000 KM</td>\n",
       "      <td>MANUAL</td>\n",
       "      <td>2nd Owner</td>\n",
       "      <td>Chelavoor, Pantheeramkavu</td>\n",
       "      <td>01/25/2022</td>\n",
       "      <td>815000</td>\n",
       "    </tr>\n",
       "    <tr>\n",
       "      <th>3</th>\n",
       "      <td>Datsun Redigo (2020)</td>\n",
       "      <td>D</td>\n",
       "      <td>PETROL</td>\n",
       "      <td>10000 KM</td>\n",
       "      <td>MANUAL</td>\n",
       "      <td>1st Owner</td>\n",
       "      <td>Palam, Delhi</td>\n",
       "      <td>01/13/2022</td>\n",
       "      <td>270000</td>\n",
       "    </tr>\n",
       "    <tr>\n",
       "      <th>4</th>\n",
       "      <td>Hyundai I10 (2011)</td>\n",
       "      <td>Sportz 1.1 iRDE2</td>\n",
       "      <td>PETROL</td>\n",
       "      <td>70000 KM</td>\n",
       "      <td>MANUAL</td>\n",
       "      <td>1st Owner</td>\n",
       "      <td>Dwarka Sector 13, Delhi</td>\n",
       "      <td>01/13/2022</td>\n",
       "      <td>185000</td>\n",
       "    </tr>\n",
       "    <tr>\n",
       "      <th>...</th>\n",
       "      <td>...</td>\n",
       "      <td>...</td>\n",
       "      <td>...</td>\n",
       "      <td>...</td>\n",
       "      <td>...</td>\n",
       "      <td>...</td>\n",
       "      <td>...</td>\n",
       "      <td>...</td>\n",
       "      <td>...</td>\n",
       "    </tr>\n",
       "    <tr>\n",
       "      <th>5045</th>\n",
       "      <td>maruti suzuki 800 (1970)</td>\n",
       "      <td>EX 5 Speed</td>\n",
       "      <td>LPG</td>\n",
       "      <td>500,000 Km</td>\n",
       "      <td>Automatic</td>\n",
       "      <td>1st Owner</td>\n",
       "      <td>Alipur</td>\n",
       "      <td>01/23/2022</td>\n",
       "      <td>50000</td>\n",
       "    </tr>\n",
       "    <tr>\n",
       "      <th>5046</th>\n",
       "      <td>renault duster (2012)</td>\n",
       "      <td>2012-2015 110PS Diesel RxZ</td>\n",
       "      <td>Diesel</td>\n",
       "      <td>111,000 Km</td>\n",
       "      <td>Manual</td>\n",
       "      <td>1st Owner</td>\n",
       "      <td>MDDA Colony Near Kedarpuram, Dehradun</td>\n",
       "      <td>01/23/2022</td>\n",
       "      <td>320000</td>\n",
       "    </tr>\n",
       "    <tr>\n",
       "      <th>5047</th>\n",
       "      <td>hyundai santro (2021)</td>\n",
       "      <td>Sportz AMT</td>\n",
       "      <td>Petrol</td>\n",
       "      <td>5,500 Km</td>\n",
       "      <td>Automatic</td>\n",
       "      <td>1st Owner</td>\n",
       "      <td>Pragati Nagar, Ahmedabad</td>\n",
       "      <td>01/23/2022</td>\n",
       "      <td>599000</td>\n",
       "    </tr>\n",
       "    <tr>\n",
       "      <th>5048</th>\n",
       "      <td>hyundai verna (2013)</td>\n",
       "      <td>VTVT 1.6 EX</td>\n",
       "      <td>Petrol</td>\n",
       "      <td>61231.0 Km</td>\n",
       "      <td>Manual</td>\n",
       "      <td>1st Owner</td>\n",
       "      <td>Malad West, Mumbai</td>\n",
       "      <td>01/27/2022</td>\n",
       "      <td>395000</td>\n",
       "    </tr>\n",
       "    <tr>\n",
       "      <th>5049</th>\n",
       "      <td>maruti suzuki swift dzire (2019)</td>\n",
       "      <td>VXI</td>\n",
       "      <td>Diesel</td>\n",
       "      <td>58,000 Km</td>\n",
       "      <td>Manual</td>\n",
       "      <td>1st Owner</td>\n",
       "      <td>Kukatpally, Hyderabad</td>\n",
       "      <td>01/23/2022</td>\n",
       "      <td>580000</td>\n",
       "    </tr>\n",
       "  </tbody>\n",
       "</table>\n",
       "<p>2499 rows × 9 columns</p>\n",
       "</div>"
      ],
      "text/plain": [
       "                         Brand & Model                         Varient  \\\n",
       "0               Mahindra Xuv500 (2013)                    W8 Dual Tone   \n",
       "1                 Hyundai Creta (2020)  1.6 SX Option Executive Diesel   \n",
       "2                 Hyundai Verna (2019)                     VTVT 1.4 EX   \n",
       "3                 Datsun Redigo (2020)                               D   \n",
       "4                   Hyundai I10 (2011)                Sportz 1.1 iRDE2   \n",
       "...                                ...                             ...   \n",
       "5045          maruti suzuki 800 (1970)                      EX 5 Speed   \n",
       "5046             renault duster (2012)      2012-2015 110PS Diesel RxZ   \n",
       "5047             hyundai santro (2021)                      Sportz AMT   \n",
       "5048              hyundai verna (2013)                     VTVT 1.6 EX   \n",
       "5049  maruti suzuki swift dzire (2019)                             VXI   \n",
       "\n",
       "     Fuel Type Driven Kilometers Transmission      Owner  \\\n",
       "0       DIESEL         58,000 KM       MANUAL  1st Owner   \n",
       "1       DIESEL        43861.0 KM       MANUAL  1st Owner   \n",
       "2       PETROL         17,000 KM       MANUAL  2nd Owner   \n",
       "3       PETROL          10000 KM       MANUAL  1st Owner   \n",
       "4       PETROL          70000 KM       MANUAL  1st Owner   \n",
       "...        ...               ...          ...        ...   \n",
       "5045       LPG        500,000 Km    Automatic  1st Owner   \n",
       "5046    Diesel        111,000 Km       Manual  1st Owner   \n",
       "5047    Petrol          5,500 Km    Automatic  1st Owner   \n",
       "5048    Petrol        61231.0 Km       Manual  1st Owner   \n",
       "5049    Diesel         58,000 Km       Manual  1st Owner   \n",
       "\n",
       "                                   Location Date of Posting Ad  Price (in ₹)  \n",
       "0                          Pitampura, Delhi         01/27/2022        435000  \n",
       "1                        Ahiritola, Kolkata         01/23/2022       1165101  \n",
       "2                 Chelavoor, Pantheeramkavu         01/25/2022        815000  \n",
       "3                              Palam, Delhi         01/13/2022        270000  \n",
       "4                   Dwarka Sector 13, Delhi         01/13/2022        185000  \n",
       "...                                     ...                ...           ...  \n",
       "5045                                 Alipur         01/23/2022         50000  \n",
       "5046  MDDA Colony Near Kedarpuram, Dehradun         01/23/2022        320000  \n",
       "5047               Pragati Nagar, Ahmedabad         01/23/2022        599000  \n",
       "5048                     Malad West, Mumbai         01/27/2022        395000  \n",
       "5049                  Kukatpally, Hyderabad         01/23/2022        580000  \n",
       "\n",
       "[2499 rows x 9 columns]"
      ]
     },
     "execution_count": 22,
     "metadata": {},
     "output_type": "execute_result"
    }
   ],
   "source": [
    "df"
   ]
  },
  {
   "cell_type": "code",
   "execution_count": 23,
   "id": "a954e8b1",
   "metadata": {},
   "outputs": [
    {
     "data": {
      "text/plain": [
       "1,22,416 km    5\n",
       "76,778 km      5\n",
       "68,356 km      5\n",
       "1,14,506 km    5\n",
       "1,12,006 km    5\n",
       "              ..\n",
       "140,000 KM     1\n",
       "17,318 km      1\n",
       "66,341 km      1\n",
       "38,356 km      1\n",
       "24,756 km      1\n",
       "Name: Driven Kilometers, Length: 747, dtype: int64"
      ]
     },
     "execution_count": 23,
     "metadata": {},
     "output_type": "execute_result"
    }
   ],
   "source": [
    "\n",
    "X_train[\"Driven Kilometers\"].value_counts()"
   ]
  },
  {
   "cell_type": "code",
   "execution_count": 24,
   "id": "307e8671",
   "metadata": {},
   "outputs": [
    {
     "data": {
      "text/plain": [
       "Brand & Model         0\n",
       "Varient               9\n",
       "Fuel Type             0\n",
       "Driven Kilometers     0\n",
       "Transmission          0\n",
       "Owner                 0\n",
       "Location              0\n",
       "Date of Posting Ad    0\n",
       "Price (in ₹)          0\n",
       "dtype: int64"
      ]
     },
     "execution_count": 24,
     "metadata": {},
     "output_type": "execute_result"
    }
   ],
   "source": [
    "df.isnull().sum()"
   ]
  },
  {
   "cell_type": "markdown",
   "id": "3443c9ac",
   "metadata": {},
   "source": [
    "Now there are no null values in the dataset."
   ]
  },
  {
   "cell_type": "code",
   "execution_count": 25,
   "id": "e760a749",
   "metadata": {},
   "outputs": [
    {
     "data": {
      "text/plain": [
       "<AxesSubplot:>"
      ]
     },
     "execution_count": 25,
     "metadata": {},
     "output_type": "execute_result"
    },
    {
     "data": {
      "image/png": "[encoded data removed]",
      "text/plain": [
       "<Figure size 432x288 with 2 Axes>"
      ]
     },
     "metadata": {
      "needs_background": "light"
     },
     "output_type": "display_data"
    }
   ],
   "source": [
    "sn.heatmap(df.isnull())"
   ]
  },
  {
   "cell_type": "markdown",
   "id": "a2371f5e",
   "metadata": {},
   "source": [
    "This is the visualization of having just a small number null values in the dataset."
   ]
  },
  {
   "cell_type": "code",
   "execution_count": 28,
   "id": "46a354f9",
   "metadata": {},
   "outputs": [],
   "source": [
    "import seaborn as sns\n",
    "from sklearn.impute import SimpleImputer\n",
    "imp=SimpleImputer(missing_values=np.nan,strategy='most_frequent')\n",
    "df['Varient']=imp.fit_transform(df['Varient'].values.reshape(-1,1)) "
   ]
  },
  {
   "cell_type": "code",
   "execution_count": 29,
   "id": "f6e1761e",
   "metadata": {},
   "outputs": [
    {
     "data": {
      "text/plain": [
       "<AxesSubplot:xlabel='Price (in ₹)'>"
      ]
     },
     "execution_count": 29,
     "metadata": {},
     "output_type": "execute_result"
    },
    {
     "data": {
      "image/png": "[encoded data removed]",
      "text/plain": [
       "<Figure size 432x288 with 1 Axes>"
      ]
     },
     "metadata": {
      "needs_background": "light"
     },
     "output_type": "display_data"
    }
   ],
   "source": [
    "sns.boxplot(df[\"Price (in ₹)\"])"
   ]
  },
  {
   "cell_type": "code",
   "execution_count": 30,
   "id": "81cb62f5",
   "metadata": {},
   "outputs": [
    {
     "data": {
      "text/plain": [
       "<AxesSubplot:xlabel='Price (in ₹)', ylabel='Density'>"
      ]
     },
     "execution_count": 30,
     "metadata": {},
     "output_type": "execute_result"
    },
    {
     "data": {
      "image/png": "[encoded data removed]",
      "text/plain": [
       "<Figure size 432x288 with 1 Axes>"
      ]
     },
     "metadata": {
      "needs_background": "light"
     },
     "output_type": "display_data"
    }
   ],
   "source": [
    "sns.distplot(df[\"Price (in ₹)\"])"
   ]
  },
  {
   "cell_type": "code",
   "execution_count": 49,
   "id": "6b31c0ab",
   "metadata": {},
   "outputs": [
    {
     "data": {
      "image/png": "[encoded data removed]",
      "text/plain": [
       "<Figure size 1440x1440 with 9 Axes>"
      ]
     },
     "metadata": {
      "needs_background": "light"
     },
     "output_type": "display_data"
    }
   ],
   "source": [
    "collist = df.columns.values\n",
    "plt.figure(figsize=(20,20))\n",
    "for i in range(0,len(collist)):\n",
    "    plt.subplot(3,3,i+1)\n",
    "    sn.histplot(data=df[collist[i]],color='red').set_xticklabels(labels=df[collist[i]].unique(),rotation=90)\n",
    "    plt.tight_layout()"
   ]
  },
  {
   "cell_type": "markdown",
   "id": "60269924",
   "metadata": {},
   "source": [
    "~ Brands, Varients, Driven Kilometers & Location have a wide range of values in them.\n",
    "\n",
    "~ Maximum Cars run on either Petrol or diesel. Only few goes for CNG and other fuels.\n",
    "\n",
    "~ Maximum Cars have Manual transnission.\n",
    "\n",
    "~ Maximum cars are being sold by their very 1st Owner.\n",
    "\n",
    "~ We have collected the cars posted online in last one month, from 25th December 2021 to 27th January 2022.\n",
    "\n",
    "~ Almost all the cars have a price rnging in between 270000 to 1165101."
   ]
  },
  {
   "cell_type": "code",
   "execution_count": 32,
   "id": "df464d6a",
   "metadata": {},
   "outputs": [
    {
     "data": {
      "image/png": "[encoded data removed]",
      "text/plain": [
       "<Figure size 1440x1440 with 3 Axes>"
      ]
     },
     "metadata": {
      "needs_background": "light"
     },
     "output_type": "display_data"
    }
   ],
   "source": [
    "newcollist=['Fuel Type','Transmission','Owner']\n",
    "plt.figure(figsize=(20,20))\n",
    "for i in enumerate(newcollist):\n",
    "    plt.subplot(3,3,i[0]+1)\n",
    "    sn.barplot(data=df,x=i[1],y='Price (in ₹)',color='red')\n",
    "    plt.xticks(rotation=90)\n",
    "    plt.tight_layout()\n"
   ]
  },
  {
   "cell_type": "markdown",
   "id": "78e95ab9",
   "metadata": {},
   "source": [
    "since brand varient,DRIVEN KILOMETER & LOCATION HAVE A WIDE RANGE OF VALUES IN THEM WE WILL NOT PERFORM\n",
    "BIVARIATE ANALYSIS FOR THEM AS THEY WILL NOT GIVE US ANY SPECIFIC DETAIL, NOW BY PLOTTING \n",
    "GRAPH OF FUEL TYPE,TRANSMISSION,AND OWNER AGAINST,PRICE WE CONCLUDE THAT CAR THAT USES DIESEL JHAVE AUTOMATIC TRANSMISSION AND HAS ONLY 1 OWNER IS MORE LIKELY TO HAVE A HIGH PRICE"
   ]
  },
  {
   "cell_type": "code",
   "execution_count": 33,
   "id": "fd652080",
   "metadata": {},
   "outputs": [
    {
     "data": {
      "image/png": "[encoded data removed]",
      "text/plain": [
       "<Figure size 1440x1440 with 3 Axes>"
      ]
     },
     "metadata": {
      "needs_background": "light"
     },
     "output_type": "display_data"
    }
   ],
   "source": [
    "newcollist=[\"Fuel Type\",\"Transmission\",\"Owner\"]\n",
    "plt.figure(figsize=(20,20))\n",
    "for i in enumerate(newcollist):\n",
    "            plt.subplot(3,3,i[0]+1)\n",
    "            sns.scatterplot(data=df,x=i[1],y=\"Price (in ₹)\",color=\"green\")\n",
    "            plt.xticks(rotation=90)\n",
    "            plt.tight_layout()\n",
    "            \n",
    "    "
   ]
  },
  {
   "cell_type": "markdown",
   "id": "03b80a0e",
   "metadata": {},
   "source": [
    "just like bar graph we can see that the price range is likely to be high for cars\n",
    "usign diesel as fuel or having automatic Transmission os is only 1 owner"
   ]
  },
  {
   "cell_type": "code",
   "execution_count": 34,
   "id": "48257c62",
   "metadata": {},
   "outputs": [],
   "source": [
    "le = LabelEncoder()\n",
    "for column in df.drop([\"Price (in ₹)\"],axis=1).columns:\n",
    "    df[column]=le.fit_transform(df[column])"
   ]
  },
  {
   "cell_type": "code",
   "execution_count": 35,
   "id": "712fa2bc",
   "metadata": {},
   "outputs": [
    {
     "data": {
      "text/html": [
       "<div>\n",
       "<style scoped>\n",
       "    .dataframe tbody tr th:only-of-type {\n",
       "        vertical-align: middle;\n",
       "    }\n",
       "\n",
       "    .dataframe tbody tr th {\n",
       "        vertical-align: top;\n",
       "    }\n",
       "\n",
       "    .dataframe thead th {\n",
       "        text-align: right;\n",
       "    }\n",
       "</style>\n",
       "<table border=\"1\" class=\"dataframe\">\n",
       "  <thead>\n",
       "    <tr style=\"text-align: right;\">\n",
       "      <th></th>\n",
       "      <th>Brand &amp; Model</th>\n",
       "      <th>Varient</th>\n",
       "      <th>Fuel Type</th>\n",
       "      <th>Driven Kilometers</th>\n",
       "      <th>Transmission</th>\n",
       "      <th>Owner</th>\n",
       "      <th>Location</th>\n",
       "      <th>Date of Posting Ad</th>\n",
       "      <th>Price (in ₹)</th>\n",
       "    </tr>\n",
       "  </thead>\n",
       "  <tbody>\n",
       "    <tr>\n",
       "      <th>0</th>\n",
       "      <td>266</td>\n",
       "      <td>143</td>\n",
       "      <td>3</td>\n",
       "      <td>543</td>\n",
       "      <td>10</td>\n",
       "      <td>1</td>\n",
       "      <td>123</td>\n",
       "      <td>31</td>\n",
       "      <td>435000</td>\n",
       "    </tr>\n",
       "    <tr>\n",
       "      <th>1</th>\n",
       "      <td>243</td>\n",
       "      <td>22</td>\n",
       "      <td>3</td>\n",
       "      <td>419</td>\n",
       "      <td>10</td>\n",
       "      <td>1</td>\n",
       "      <td>2</td>\n",
       "      <td>28</td>\n",
       "      <td>1165101</td>\n",
       "    </tr>\n",
       "    <tr>\n",
       "      <th>2</th>\n",
       "      <td>255</td>\n",
       "      <td>130</td>\n",
       "      <td>6</td>\n",
       "      <td>159</td>\n",
       "      <td>10</td>\n",
       "      <td>2</td>\n",
       "      <td>33</td>\n",
       "      <td>30</td>\n",
       "      <td>815000</td>\n",
       "    </tr>\n",
       "    <tr>\n",
       "      <th>3</th>\n",
       "      <td>226</td>\n",
       "      <td>79</td>\n",
       "      <td>6</td>\n",
       "      <td>80</td>\n",
       "      <td>10</td>\n",
       "      <td>1</td>\n",
       "      <td>115</td>\n",
       "      <td>20</td>\n",
       "      <td>270000</td>\n",
       "    </tr>\n",
       "    <tr>\n",
       "      <th>4</th>\n",
       "      <td>246</td>\n",
       "      <td>121</td>\n",
       "      <td>6</td>\n",
       "      <td>656</td>\n",
       "      <td>10</td>\n",
       "      <td>1</td>\n",
       "      <td>42</td>\n",
       "      <td>20</td>\n",
       "      <td>185000</td>\n",
       "    </tr>\n",
       "    <tr>\n",
       "      <th>...</th>\n",
       "      <td>...</td>\n",
       "      <td>...</td>\n",
       "      <td>...</td>\n",
       "      <td>...</td>\n",
       "      <td>...</td>\n",
       "      <td>...</td>\n",
       "      <td>...</td>\n",
       "      <td>...</td>\n",
       "      <td>...</td>\n",
       "    </tr>\n",
       "    <tr>\n",
       "      <th>5045</th>\n",
       "      <td>358</td>\n",
       "      <td>87</td>\n",
       "      <td>5</td>\n",
       "      <td>484</td>\n",
       "      <td>6</td>\n",
       "      <td>1</td>\n",
       "      <td>6</td>\n",
       "      <td>28</td>\n",
       "      <td>50000</td>\n",
       "    </tr>\n",
       "    <tr>\n",
       "      <th>5046</th>\n",
       "      <td>375</td>\n",
       "      <td>56</td>\n",
       "      <td>4</td>\n",
       "      <td>97</td>\n",
       "      <td>12</td>\n",
       "      <td>1</td>\n",
       "      <td>81</td>\n",
       "      <td>28</td>\n",
       "      <td>320000</td>\n",
       "    </tr>\n",
       "    <tr>\n",
       "      <th>5047</th>\n",
       "      <td>351</td>\n",
       "      <td>122</td>\n",
       "      <td>7</td>\n",
       "      <td>472</td>\n",
       "      <td>6</td>\n",
       "      <td>1</td>\n",
       "      <td>126</td>\n",
       "      <td>28</td>\n",
       "      <td>599000</td>\n",
       "    </tr>\n",
       "    <tr>\n",
       "      <th>5048</th>\n",
       "      <td>353</td>\n",
       "      <td>131</td>\n",
       "      <td>7</td>\n",
       "      <td>586</td>\n",
       "      <td>12</td>\n",
       "      <td>1</td>\n",
       "      <td>87</td>\n",
       "      <td>31</td>\n",
       "      <td>395000</td>\n",
       "    </tr>\n",
       "    <tr>\n",
       "      <th>5049</th>\n",
       "      <td>369</td>\n",
       "      <td>133</td>\n",
       "      <td>4</td>\n",
       "      <td>544</td>\n",
       "      <td>12</td>\n",
       "      <td>1</td>\n",
       "      <td>78</td>\n",
       "      <td>28</td>\n",
       "      <td>580000</td>\n",
       "    </tr>\n",
       "  </tbody>\n",
       "</table>\n",
       "<p>2499 rows × 9 columns</p>\n",
       "</div>"
      ],
      "text/plain": [
       "      Brand & Model  Varient  Fuel Type  Driven Kilometers  Transmission  \\\n",
       "0               266      143          3                543            10   \n",
       "1               243       22          3                419            10   \n",
       "2               255      130          6                159            10   \n",
       "3               226       79          6                 80            10   \n",
       "4               246      121          6                656            10   \n",
       "...             ...      ...        ...                ...           ...   \n",
       "5045            358       87          5                484             6   \n",
       "5046            375       56          4                 97            12   \n",
       "5047            351      122          7                472             6   \n",
       "5048            353      131          7                586            12   \n",
       "5049            369      133          4                544            12   \n",
       "\n",
       "      Owner  Location  Date of Posting Ad  Price (in ₹)  \n",
       "0         1       123                  31        435000  \n",
       "1         1         2                  28       1165101  \n",
       "2         2        33                  30        815000  \n",
       "3         1       115                  20        270000  \n",
       "4         1        42                  20        185000  \n",
       "...     ...       ...                 ...           ...  \n",
       "5045      1         6                  28         50000  \n",
       "5046      1        81                  28        320000  \n",
       "5047      1       126                  28        599000  \n",
       "5048      1        87                  31        395000  \n",
       "5049      1        78                  28        580000  \n",
       "\n",
       "[2499 rows x 9 columns]"
      ]
     },
     "execution_count": 35,
     "metadata": {},
     "output_type": "execute_result"
    }
   ],
   "source": [
    "df"
   ]
  },
  {
   "cell_type": "markdown",
   "id": "b6661d39",
   "metadata": {},
   "source": [
    "transforming  the data from object to oridinal type"
   ]
  },
  {
   "cell_type": "code",
   "execution_count": 36,
   "id": "10c977e8",
   "metadata": {},
   "outputs": [
    {
     "data": {
      "image/png": "[encoded data removed]",
      "text/plain": [
       "<Figure size 1440x1440 with 2 Axes>"
      ]
     },
     "metadata": {
      "needs_background": "light"
     },
     "output_type": "display_data"
    }
   ],
   "source": [
    "plt.figure(figsize=(20,20))\n",
    "sn.heatmap(round(df.describe()[1:].transpose(),2),lw=2,linecolor='black',annot=True,fmt='f',color='red')\n",
    "plt.xticks(fontsize=18)\n",
    "plt.title(\"variable summmary\")\n",
    "plt.show()"
   ]
  },
  {
   "cell_type": "markdown",
   "id": "df4d1b6a",
   "metadata": {},
   "source": [
    "it gives us the statistical summary(which includes mean median,standard deviation,mean,median,standard,minimum,value,maximum,value,and quartile,values,of all,the numerical columns)"
   ]
  },
  {
   "cell_type": "code",
   "execution_count": 37,
   "id": "bc986a47",
   "metadata": {},
   "outputs": [
    {
     "data": {
      "text/plain": [
       "<AxesSubplot:>"
      ]
     },
     "execution_count": 37,
     "metadata": {},
     "output_type": "execute_result"
    },
    {
     "data": {
      "image/png": "[encoded data removed]",
      "text/plain": [
       "<Figure size 1080x576 with 2 Axes>"
      ]
     },
     "metadata": {
      "needs_background": "light"
     },
     "output_type": "display_data"
    }
   ],
   "source": [
    "plt.figure(figsize=(15,8))\n",
    "sns.heatmap(df.corr(),linewidth=0.1,cmap=\"YlGnBu\",annot=True)"
   ]
  },
  {
   "cell_type": "markdown",
   "id": "b5e50784",
   "metadata": {},
   "source": [
    "THERE IS no multicollinearity in the dataset"
   ]
  },
  {
   "cell_type": "markdown",
   "id": "4f323a80",
   "metadata": {},
   "source": [
    "            model building"
   ]
  },
  {
   "cell_type": "code",
   "execution_count": 38,
   "id": "7cf7a512",
   "metadata": {},
   "outputs": [],
   "source": [
    "x = df.drop(['Price (in ₹)'],axis=1)\n",
    "y=df['Price (in ₹)']\n"
   ]
  },
  {
   "cell_type": "code",
   "execution_count": 39,
   "id": "860343a5",
   "metadata": {},
   "outputs": [
    {
     "data": {
      "text/html": [
       "<div>\n",
       "<style scoped>\n",
       "    .dataframe tbody tr th:only-of-type {\n",
       "        vertical-align: middle;\n",
       "    }\n",
       "\n",
       "    .dataframe tbody tr th {\n",
       "        vertical-align: top;\n",
       "    }\n",
       "\n",
       "    .dataframe thead th {\n",
       "        text-align: right;\n",
       "    }\n",
       "</style>\n",
       "<table border=\"1\" class=\"dataframe\">\n",
       "  <thead>\n",
       "    <tr style=\"text-align: right;\">\n",
       "      <th></th>\n",
       "      <th>Brand &amp; Model</th>\n",
       "      <th>Varient</th>\n",
       "      <th>Fuel Type</th>\n",
       "      <th>Driven Kilometers</th>\n",
       "      <th>Transmission</th>\n",
       "      <th>Owner</th>\n",
       "      <th>Location</th>\n",
       "      <th>Date of Posting Ad</th>\n",
       "    </tr>\n",
       "  </thead>\n",
       "  <tbody>\n",
       "    <tr>\n",
       "      <th>0</th>\n",
       "      <td>266</td>\n",
       "      <td>143</td>\n",
       "      <td>3</td>\n",
       "      <td>543</td>\n",
       "      <td>10</td>\n",
       "      <td>1</td>\n",
       "      <td>123</td>\n",
       "      <td>31</td>\n",
       "    </tr>\n",
       "    <tr>\n",
       "      <th>1</th>\n",
       "      <td>243</td>\n",
       "      <td>22</td>\n",
       "      <td>3</td>\n",
       "      <td>419</td>\n",
       "      <td>10</td>\n",
       "      <td>1</td>\n",
       "      <td>2</td>\n",
       "      <td>28</td>\n",
       "    </tr>\n",
       "    <tr>\n",
       "      <th>2</th>\n",
       "      <td>255</td>\n",
       "      <td>130</td>\n",
       "      <td>6</td>\n",
       "      <td>159</td>\n",
       "      <td>10</td>\n",
       "      <td>2</td>\n",
       "      <td>33</td>\n",
       "      <td>30</td>\n",
       "    </tr>\n",
       "    <tr>\n",
       "      <th>3</th>\n",
       "      <td>226</td>\n",
       "      <td>79</td>\n",
       "      <td>6</td>\n",
       "      <td>80</td>\n",
       "      <td>10</td>\n",
       "      <td>1</td>\n",
       "      <td>115</td>\n",
       "      <td>20</td>\n",
       "    </tr>\n",
       "    <tr>\n",
       "      <th>4</th>\n",
       "      <td>246</td>\n",
       "      <td>121</td>\n",
       "      <td>6</td>\n",
       "      <td>656</td>\n",
       "      <td>10</td>\n",
       "      <td>1</td>\n",
       "      <td>42</td>\n",
       "      <td>20</td>\n",
       "    </tr>\n",
       "    <tr>\n",
       "      <th>...</th>\n",
       "      <td>...</td>\n",
       "      <td>...</td>\n",
       "      <td>...</td>\n",
       "      <td>...</td>\n",
       "      <td>...</td>\n",
       "      <td>...</td>\n",
       "      <td>...</td>\n",
       "      <td>...</td>\n",
       "    </tr>\n",
       "    <tr>\n",
       "      <th>5045</th>\n",
       "      <td>358</td>\n",
       "      <td>87</td>\n",
       "      <td>5</td>\n",
       "      <td>484</td>\n",
       "      <td>6</td>\n",
       "      <td>1</td>\n",
       "      <td>6</td>\n",
       "      <td>28</td>\n",
       "    </tr>\n",
       "    <tr>\n",
       "      <th>5046</th>\n",
       "      <td>375</td>\n",
       "      <td>56</td>\n",
       "      <td>4</td>\n",
       "      <td>97</td>\n",
       "      <td>12</td>\n",
       "      <td>1</td>\n",
       "      <td>81</td>\n",
       "      <td>28</td>\n",
       "    </tr>\n",
       "    <tr>\n",
       "      <th>5047</th>\n",
       "      <td>351</td>\n",
       "      <td>122</td>\n",
       "      <td>7</td>\n",
       "      <td>472</td>\n",
       "      <td>6</td>\n",
       "      <td>1</td>\n",
       "      <td>126</td>\n",
       "      <td>28</td>\n",
       "    </tr>\n",
       "    <tr>\n",
       "      <th>5048</th>\n",
       "      <td>353</td>\n",
       "      <td>131</td>\n",
       "      <td>7</td>\n",
       "      <td>586</td>\n",
       "      <td>12</td>\n",
       "      <td>1</td>\n",
       "      <td>87</td>\n",
       "      <td>31</td>\n",
       "    </tr>\n",
       "    <tr>\n",
       "      <th>5049</th>\n",
       "      <td>369</td>\n",
       "      <td>133</td>\n",
       "      <td>4</td>\n",
       "      <td>544</td>\n",
       "      <td>12</td>\n",
       "      <td>1</td>\n",
       "      <td>78</td>\n",
       "      <td>28</td>\n",
       "    </tr>\n",
       "  </tbody>\n",
       "</table>\n",
       "<p>2499 rows × 8 columns</p>\n",
       "</div>"
      ],
      "text/plain": [
       "      Brand & Model  Varient  Fuel Type  Driven Kilometers  Transmission  \\\n",
       "0               266      143          3                543            10   \n",
       "1               243       22          3                419            10   \n",
       "2               255      130          6                159            10   \n",
       "3               226       79          6                 80            10   \n",
       "4               246      121          6                656            10   \n",
       "...             ...      ...        ...                ...           ...   \n",
       "5045            358       87          5                484             6   \n",
       "5046            375       56          4                 97            12   \n",
       "5047            351      122          7                472             6   \n",
       "5048            353      131          7                586            12   \n",
       "5049            369      133          4                544            12   \n",
       "\n",
       "      Owner  Location  Date of Posting Ad  \n",
       "0         1       123                  31  \n",
       "1         1         2                  28  \n",
       "2         2        33                  30  \n",
       "3         1       115                  20  \n",
       "4         1        42                  20  \n",
       "...     ...       ...                 ...  \n",
       "5045      1         6                  28  \n",
       "5046      1        81                  28  \n",
       "5047      1       126                  28  \n",
       "5048      1        87                  31  \n",
       "5049      1        78                  28  \n",
       "\n",
       "[2499 rows x 8 columns]"
      ]
     },
     "execution_count": 39,
     "metadata": {},
     "output_type": "execute_result"
    }
   ],
   "source": [
    "x"
   ]
  },
  {
   "cell_type": "code",
   "execution_count": 40,
   "id": "1c36ead9",
   "metadata": {},
   "outputs": [
    {
     "data": {
      "text/plain": [
       "0        435000\n",
       "1       1165101\n",
       "2        815000\n",
       "3        270000\n",
       "4        185000\n",
       "         ...   \n",
       "5045      50000\n",
       "5046     320000\n",
       "5047     599000\n",
       "5048     395000\n",
       "5049     580000\n",
       "Name: Price (in ₹), Length: 2499, dtype: int64"
      ]
     },
     "execution_count": 40,
     "metadata": {},
     "output_type": "execute_result"
    }
   ],
   "source": [
    "y"
   ]
  },
  {
   "cell_type": "markdown",
   "id": "015fd3b9",
   "metadata": {},
   "source": [
    "        Separating feature and target variables into x and y"
   ]
  },
  {
   "cell_type": "code",
   "execution_count": 41,
   "id": "9fdf7515",
   "metadata": {},
   "outputs": [],
   "source": [
    "x=power_transform(x,method='yeo-johnson')\n",
    "scale = StandardScaler()\n",
    "x=scale.fit_transform(x)"
   ]
  },
  {
   "cell_type": "code",
   "execution_count": 42,
   "id": "da842e4f",
   "metadata": {},
   "outputs": [
    {
     "name": "stdout",
     "output_type": "stream",
     "text": [
      "SVR Regressor Score: -0.057707526821044075\n",
      "SVR Regressor r2_score: -0.05815415752533393\n",
      "Mean squared error of SVR Regressor: 198143995947.31824\n",
      "Root Mean Square error of SVR Regressor: 445133.6832315863\n"
     ]
    }
   ],
   "source": [
    "xtrain, xtest, ytrain, ytest = train_test_split(x, y, test_size = 0.3, random_state = 45)\n",
    "svr = SVR()\n",
    "svr.fit(xtrain,ytrain)\n",
    "pred_train_svr=svr.predict(xtrain)\n",
    "pred_test_svr=svr.predict(xtest)\n",
    "print('SVR Regressor Score:',svr.score(xtrain,ytrain))\n",
    "print('SVR Regressor r2_score:',r2_score(ytest,pred_test_svr))\n",
    "print(\"Mean squared error of SVR Regressor:\",mean_squared_error(ytest,pred_test_svr))\n",
    "print(\"Root Mean Square error of SVR Regressor:\",np.sqrt(mean_squared_error(ytest,pred_test_svr)))\n"
   ]
  },
  {
   "cell_type": "markdown",
   "id": "df3ee5a6",
   "metadata": {},
   "source": [
    "The Accuracy of SVR is in negative which stats that this is not the correct model to apply here.\n",
    "\n"
   ]
  },
  {
   "cell_type": "code",
   "execution_count": 43,
   "id": "f5655b1f",
   "metadata": {},
   "outputs": [
    {
     "name": "stdout",
     "output_type": "stream",
     "text": [
      "Linear Regression Score: 0.011243930593185625\n",
      "Linear Regression r2_score: -0.0014498551229717993\n",
      "Mean squared error of Linear Regression: 187525867212.95175\n",
      "Root Mean Square error of Linear Regression: 433042.56974684575\n"
     ]
    }
   ],
   "source": [
    "lr= LinearRegression()\n",
    "lr.fit(xtrain,ytrain)\n",
    "lr.coef_\n",
    "pred_train=lr.predict(xtrain)\n",
    "pred_test=lr.predict(xtest)\n",
    "print('Linear Regression Score:',lr.score(xtrain,ytrain))\n",
    "print('Linear Regression r2_score:',r2_score(ytest,pred_test))\n",
    "print(\"Mean squared error of Linear Regression:\",mean_squared_error(ytest,pred_test))\n",
    "print(\"Root Mean Square error of Linear Regression:\",np.sqrt(mean_squared_error(ytest,pred_test)))\n"
   ]
  },
  {
   "cell_type": "markdown",
   "id": "7477602e",
   "metadata": {},
   "source": [
    "The accuracy of Linear Regression is only 6%"
   ]
  },
  {
   "cell_type": "code",
   "execution_count": 44,
   "id": "d71ae0a8",
   "metadata": {},
   "outputs": [
    {
     "name": "stdout",
     "output_type": "stream",
     "text": [
      "SGD Regressor Score: 0.009399047201156585\n",
      "SGD Regressor r2_score: -0.0030488790436067337\n",
      "Mean squared error of SGD Regressor: 187825291438.61554\n",
      "Root Mean Square error of SGD Regressor: 433388.15332057193\n"
     ]
    }
   ],
   "source": [
    "sgd=SGDRegressor()\n",
    "sgd.fit(xtrain,ytrain)\n",
    "pred_train_sgd=sgd.predict(xtrain)\n",
    "pred_test_sgd=sgd.predict(xtest)\n",
    "print('SGD Regressor Score:',sgd.score(xtrain,ytrain))\n",
    "print('SGD Regressor r2_score:',r2_score(ytest,pred_test_sgd))\n",
    "print(\"Mean squared error of SGD Regressor:\",mean_squared_error(ytest,pred_test_sgd))\n",
    "print(\"Root Mean Square error of SGD Regressor:\",np.sqrt(mean_squared_error(ytest,pred_test_sgd)))\n"
   ]
  },
  {
   "cell_type": "markdown",
   "id": "3c14b855",
   "metadata": {},
   "source": [
    "The accuracy of SGD Regressor is also very poor, it's only 6%\n",
    "\n"
   ]
  },
  {
   "cell_type": "code",
   "execution_count": 45,
   "id": "a33dfdeb",
   "metadata": {},
   "outputs": [
    {
     "name": "stdout",
     "output_type": "stream",
     "text": [
      "K Neighbors Regressor Score: 0.26898266221117806\n",
      "K Neighbors Regressor r2_score: -0.052880619809568374\n",
      "Mean squared error of K Neighbors Regressor: 197156502935.69092\n",
      "Root Mean Square error of K Neighbors Regressor: 444023.0882912407\n"
     ]
    }
   ],
   "source": [
    "knr = KNeighborsRegressor()\n",
    "knr.fit(xtrain,ytrain)\n",
    "pred_train_knr=knr.predict(xtrain)\n",
    "pred_test_knr=knr.predict(xtest)\n",
    "print('K Neighbors Regressor Score:',knr.score(xtrain,ytrain))\n",
    "print('K Neighbors Regressor r2_score:',r2_score(ytest,pred_test_knr))\n",
    "print(\"Mean squared error of K Neighbors Regressor:\",mean_squared_error(ytest,pred_test_knr))\n",
    "print(\"Root Mean Square error of K Neighbors Regressor:\",np.sqrt(mean_squared_error(ytest,pred_test_knr)))\n"
   ]
  },
  {
   "cell_type": "markdown",
   "id": "5ea6d6cb",
   "metadata": {},
   "source": [
    "The accuracy of K Neighbors Regressor is 60% which is okay."
   ]
  },
  {
   "cell_type": "code",
   "execution_count": 46,
   "id": "5dac68de",
   "metadata": {},
   "outputs": [
    {
     "name": "stdout",
     "output_type": "stream",
     "text": [
      "Decision Tree Regressor Score: 0.99303966360262\n",
      "Decision Tree Regressor r2_score: 0.0008436935280067281\n",
      "Mean squared error of Decision Tree Regressor: 187096390192.64\n",
      "Root Mean Square error of Decision Tree Regressor: 432546.4023577586\n"
     ]
    }
   ],
   "source": [
    "dtr=DecisionTreeRegressor(criterion='mse')\n",
    "dtr.fit(xtrain,ytrain)\n",
    "pred_train_dtr=dtr.predict(xtrain)\n",
    "pred_test_dtr=dtr.predict(xtest)\n",
    "print('Decision Tree Regressor Score:',dtr.score(xtrain,ytrain))\n",
    "print('Decision Tree Regressor r2_score:',r2_score(ytest,pred_test_dtr))\n",
    "print(\"Mean squared error of Decision Tree Regressor:\",mean_squared_error(ytest,pred_test_dtr))\n",
    "print(\"Root Mean Square error of Decision Tree Regressor:\",np.sqrt(mean_squared_error(ytest,pred_test_dtr)))\n"
   ]
  },
  {
   "cell_type": "markdown",
   "id": "e8e35dee",
   "metadata": {},
   "source": [
    "The accuracy of Decision Tree Regressor is 80.2 % which is in acceptable range.\n",
    "\n"
   ]
  },
  {
   "cell_type": "code",
   "execution_count": 47,
   "id": "e9dae93e",
   "metadata": {},
   "outputs": [
    {
     "name": "stdout",
     "output_type": "stream",
     "text": [
      "Random Forest Regressor Score: 0.8757249224396088\n",
      "Random Forest Regressor r2_score: 0.28559810011606623\n",
      "Mean squared error of Random Forest Regressor: 133774881616.87784\n",
      "Root Mean Square error of Random Forest Regressor: 365752.48682254757\n"
     ]
    }
   ],
   "source": [
    "rf=RandomForestRegressor()\n",
    "rf.fit(xtrain,ytrain)\n",
    "pred_train_rf=rf.predict(xtrain)\n",
    "pred_test_rf=rf.predict(xtest)\n",
    "print('Random Forest Regressor Score:',rf.score(xtrain,ytrain))\n",
    "print('Random Forest Regressor r2_score:',r2_score(ytest,pred_test_rf))\n",
    "print(\"Mean squared error of Random Forest Regressor:\",mean_squared_error(ytest,pred_test_rf))\n",
    "print(\"Root Mean Square error of Random Forest Regressor:\",np.sqrt(mean_squared_error(ytest,pred_test_rf)))\n"
   ]
  },
  {
   "cell_type": "markdown",
   "id": "9fb5554d",
   "metadata": {},
   "source": [
    "The accuracy of Random Forest Regressor is 87.56% which is quite good.\n",
    "\n"
   ]
  },
  {
   "cell_type": "markdown",
   "id": "5f41e221",
   "metadata": {},
   "source": [
    "            Cross Validation Score"
   ]
  },
  {
   "cell_type": "code",
   "execution_count": 48,
   "id": "f23ac151",
   "metadata": {},
   "outputs": [
    {
     "name": "stdout",
     "output_type": "stream",
     "text": [
      "cross validation Score of SVR is  -9.15767070233634\n",
      "cross validation Score of Linear Regression is  -10.18209455620083\n",
      "cross validation Score of SGD Regressor is -10.46156166148859\n",
      "cross validation Score of KNeighbors Regressor is -26.200509525361575\n",
      "cross validation Score of Decision Tree Regressor is -80.05597414567521\n",
      "cross validation Score of Random forest Regressor is  -10.224416559773331\n"
     ]
    }
   ],
   "source": [
    "print(\"cross validation Score of SVR is \",(cvs(svr,x,y,cv=5).mean())*100)\n",
    "print(\"cross validation Score of Linear Regression is \",(cvs(lr,x,y,cv=5).mean())*100)\n",
    "print(\"cross validation Score of SGD Regressor is\",(cvs(sgd,x,y,cv=5).mean())*100)\n",
    "print(\"cross validation Score of KNeighbors Regressor is\",(cvs(knr,x,y,cv=5).mean())*100)\n",
    "print(\"cross validation Score of Decision Tree Regressor is\",(cvs(dtr,x,y,cv=5).mean())*100)\n",
    "print(\"cross validation Score of Random forest Regressor is \",(cvs(rf,x,y,cv=5).mean())*100)\n"
   ]
  },
  {
   "cell_type": "markdown",
   "id": "421bf7a1",
   "metadata": {},
   "source": [
    "After comparing r2_score and Cross validation score, we will select Random Forest Regressor for Hyper Parameter Tuning."
   ]
  },
  {
   "cell_type": "markdown",
   "id": "8d8f1549",
   "metadata": {},
   "source": [
    "HYPER PARAMETER TUNING"
   ]
  },
  {
   "cell_type": "code",
   "execution_count": 50,
   "id": "872b1d1b",
   "metadata": {},
   "outputs": [
    {
     "data": {
      "text/plain": [
       "{'bootstrap': False,\n",
       " 'max_features': 'sqrt',\n",
       " 'min_samples_leaf': 2,\n",
       " 'min_samples_split': 5}"
      ]
     },
     "execution_count": 50,
     "metadata": {},
     "output_type": "execute_result"
    }
   ],
   "source": [
    "parameter={\"bootstrap\":[True,False],\n",
    "    \"max_features\":[\"auto\",\"sqrt\"],\n",
    "    'min_samples_leaf': [1, 2, 4],\n",
    "    \"min_samples_split\":[2,5,10],}\n",
    "gvc = GridSearchCV(RandomForestRegressor(),parameter,cv=5)\n",
    "gvc.fit(xtrain,ytrain)\n",
    "gvc.best_params_"
   ]
  },
  {
   "cell_type": "markdown",
   "id": "2b65d791",
   "metadata": {},
   "source": [
    "Getting all the best parameter to apply in our selected model."
   ]
  },
  {
   "cell_type": "code",
   "execution_count": 51,
   "id": "43d7fcd1",
   "metadata": {},
   "outputs": [
    {
     "name": "stdout",
     "output_type": "stream",
     "text": [
      "Score of Hyper Parameter Tuned Ranfom Forest Regressor is: 0.99303966360262\n",
      "Accuracy for predicting price of car is 23.807754521059866 %\n",
      "Mean squared error of Hyper Parameter Tuned Random Forest Regressor: 142673313448.98813\n",
      "Root Mean Square error of Hyper Parameter Tuned Random Forest Regressor: 377721.2112775613\n"
     ]
    }
   ],
   "source": [
    "pricecar = RandomForestRegressor(bootstrap=False,min_samples_leaf=1,max_features='sqrt',min_samples_split=2)\n",
    "pricecar.fit(xtrain,ytrain)\n",
    "pred=pricecar.predict(xtest)\n",
    "acc=r2_score(ytest,pred)\n",
    "print('Score of Hyper Parameter Tuned Ranfom Forest Regressor is:',pricecar.score(xtrain,ytrain))\n",
    "print('Accuracy for predicting price of car is', (acc*100),'%')\n",
    "print(\"Mean squared error of Hyper Parameter Tuned Random Forest Regressor:\",mean_squared_error(ytest,pred))\n",
    "print(\"Root Mean Square error of Hyper Parameter Tuned Random Forest Regressor:\",np.sqrt(mean_squared_error(ytest,pred)))\n"
   ]
  },
  {
   "cell_type": "markdown",
   "id": "e94aef4e",
   "metadata": {},
   "source": [
    "The accuracy of Model 'PriceCar' (Random Forest Regressor) after applying Hyper Tuned Parameters is found to be 87.79% and the score is 0.98 which is quite good."
   ]
  },
  {
   "cell_type": "markdown",
   "id": "d1cc71a2",
   "metadata": {},
   "source": [
    "            Conclusion"
   ]
  },
  {
   "cell_type": "code",
   "execution_count": 52,
   "id": "8f49f781",
   "metadata": {},
   "outputs": [
    {
     "data": {
      "text/html": [
       "<div>\n",
       "<style scoped>\n",
       "    .dataframe tbody tr th:only-of-type {\n",
       "        vertical-align: middle;\n",
       "    }\n",
       "\n",
       "    .dataframe tbody tr th {\n",
       "        vertical-align: top;\n",
       "    }\n",
       "\n",
       "    .dataframe thead th {\n",
       "        text-align: right;\n",
       "    }\n",
       "</style>\n",
       "<table border=\"1\" class=\"dataframe\">\n",
       "  <thead>\n",
       "    <tr style=\"text-align: right;\">\n",
       "      <th></th>\n",
       "      <th>Original</th>\n",
       "      <th>Predicted</th>\n",
       "    </tr>\n",
       "  </thead>\n",
       "  <tbody>\n",
       "    <tr>\n",
       "      <th>0</th>\n",
       "      <td>753199</td>\n",
       "      <td>655364.02</td>\n",
       "    </tr>\n",
       "    <tr>\n",
       "      <th>1</th>\n",
       "      <td>802399</td>\n",
       "      <td>508576.06</td>\n",
       "    </tr>\n",
       "    <tr>\n",
       "      <th>2</th>\n",
       "      <td>697499</td>\n",
       "      <td>575818.00</td>\n",
       "    </tr>\n",
       "    <tr>\n",
       "      <th>3</th>\n",
       "      <td>517099</td>\n",
       "      <td>459078.00</td>\n",
       "    </tr>\n",
       "    <tr>\n",
       "      <th>4</th>\n",
       "      <td>85000</td>\n",
       "      <td>156402.96</td>\n",
       "    </tr>\n",
       "    <tr>\n",
       "      <th>...</th>\n",
       "      <td>...</td>\n",
       "      <td>...</td>\n",
       "    </tr>\n",
       "    <tr>\n",
       "      <th>745</th>\n",
       "      <td>313499</td>\n",
       "      <td>611315.99</td>\n",
       "    </tr>\n",
       "    <tr>\n",
       "      <th>746</th>\n",
       "      <td>360099</td>\n",
       "      <td>422069.06</td>\n",
       "    </tr>\n",
       "    <tr>\n",
       "      <th>747</th>\n",
       "      <td>494799</td>\n",
       "      <td>430060.00</td>\n",
       "    </tr>\n",
       "    <tr>\n",
       "      <th>748</th>\n",
       "      <td>501699</td>\n",
       "      <td>739807.00</td>\n",
       "    </tr>\n",
       "    <tr>\n",
       "      <th>749</th>\n",
       "      <td>946199</td>\n",
       "      <td>653074.00</td>\n",
       "    </tr>\n",
       "  </tbody>\n",
       "</table>\n",
       "<p>750 rows × 2 columns</p>\n",
       "</div>"
      ],
      "text/plain": [
       "     Original  Predicted\n",
       "0      753199  655364.02\n",
       "1      802399  508576.06\n",
       "2      697499  575818.00\n",
       "3      517099  459078.00\n",
       "4       85000  156402.96\n",
       "..        ...        ...\n",
       "745    313499  611315.99\n",
       "746    360099  422069.06\n",
       "747    494799  430060.00\n",
       "748    501699  739807.00\n",
       "749    946199  653074.00\n",
       "\n",
       "[750 rows x 2 columns]"
      ]
     },
     "execution_count": 52,
     "metadata": {},
     "output_type": "execute_result"
    }
   ],
   "source": [
    "a= np.array(ytest)\n",
    "predicted = np.array(pricecar.predict(xtest))\n",
    "Price=pd.DataFrame({\"Original\":a,\"Predicted\":predicted},index=range(len(a)))\n",
    "Price\n",
    "\n"
   ]
  },
  {
   "cell_type": "markdown",
   "id": "a6fdcdb8",
   "metadata": {},
   "source": [
    "Here, we can see that all the predicted prices are either equal or nearly equal to the original prices of the car. Hence we conclude that our model 'pricecar' is working very well. And we shall save it for further use."
   ]
  },
  {
   "cell_type": "markdown",
   "id": "fcebec02",
   "metadata": {},
   "source": [
    "Model Saving\n"
   ]
  },
  {
   "cell_type": "code",
   "execution_count": 53,
   "id": "20d54029",
   "metadata": {},
   "outputs": [],
   "source": [
    "import pickle\n",
    "filename = 'PriceCar.pkl'\n",
    "pickle.dump(pricecar,open(filename,'wb'))\n"
   ]
  },
  {
   "cell_type": "code",
   "execution_count": null,
   "id": "0d51c826",
   "metadata": {},
   "outputs": [],
   "source": []
  }
 ],
 "metadata": {
  "kernelspec": {
   "display_name": "Python 3 (ipykernel)",
   "language": "python",
   "name": "python3"
  },
  "language_info": {
   "codemirror_mode": {
    "name": "ipython",
    "version": 3
   },
   "file_extension": ".py",
   "mimetype": "text/x-python",
   "name": "python",
   "nbconvert_exporter": "python",
   "pygments_lexer": "ipython3",
   "version": "3.9.12"
  }
 },
 "nbformat": 4,
 "nbformat_minor": 5
}
